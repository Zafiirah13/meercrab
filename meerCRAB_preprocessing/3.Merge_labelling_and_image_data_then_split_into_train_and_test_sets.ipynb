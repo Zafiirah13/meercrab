{
 "cells": [
  {
   "cell_type": "code",
   "execution_count": 1,
   "metadata": {},
   "outputs": [],
   "source": [
    "# This script will merge the labels and the images. Afterwards, the whole data is split into 75% training and 25% testing\n",
    "import pandas as pd"
   ]
  },
  {
   "cell_type": "code",
   "execution_count": 2,
   "metadata": {},
   "outputs": [],
   "source": [
    "vetting_table = pd.read_csv('../data/voting_5000.csv')\n"
   ]
  },
  {
   "cell_type": "code",
   "execution_count": 3,
   "metadata": {},
   "outputs": [],
   "source": [
    "image_table = pd.read_csv('../data/image_data_5000.csv')"
   ]
  },
  {
   "cell_type": "code",
   "execution_count": 4,
   "metadata": {},
   "outputs": [],
   "source": [
    "threshold = 'label_9'#'label_9' #This parameter needs to be changed to select which threshold we want\n",
    "vetting_table = vetting_table[['transientid',threshold]]"
   ]
  },
  {
   "cell_type": "code",
   "execution_count": 5,
   "metadata": {},
   "outputs": [
    {
     "name": "stdout",
     "output_type": "stream",
     "text": [
      "The number of sources to be discarded = 623\n"
     ]
    },
    {
     "data": {
      "text/html": [
       "<div>\n",
       "<style scoped>\n",
       "    .dataframe tbody tr th:only-of-type {\n",
       "        vertical-align: middle;\n",
       "    }\n",
       "\n",
       "    .dataframe tbody tr th {\n",
       "        vertical-align: top;\n",
       "    }\n",
       "\n",
       "    .dataframe thead th {\n",
       "        text-align: right;\n",
       "    }\n",
       "</style>\n",
       "<table border=\"1\" class=\"dataframe\">\n",
       "  <thead>\n",
       "    <tr style=\"text-align: right;\">\n",
       "      <th></th>\n",
       "      <th>transientid</th>\n",
       "      <th>label_9</th>\n",
       "    </tr>\n",
       "  </thead>\n",
       "  <tbody>\n",
       "    <tr>\n",
       "      <th>7</th>\n",
       "      <td>5408</td>\n",
       "      <td>NaN</td>\n",
       "    </tr>\n",
       "    <tr>\n",
       "      <th>8</th>\n",
       "      <td>5490</td>\n",
       "      <td>NaN</td>\n",
       "    </tr>\n",
       "    <tr>\n",
       "      <th>33</th>\n",
       "      <td>6930</td>\n",
       "      <td>NaN</td>\n",
       "    </tr>\n",
       "    <tr>\n",
       "      <th>39</th>\n",
       "      <td>7132</td>\n",
       "      <td>NaN</td>\n",
       "    </tr>\n",
       "    <tr>\n",
       "      <th>41</th>\n",
       "      <td>7296</td>\n",
       "      <td>NaN</td>\n",
       "    </tr>\n",
       "  </tbody>\n",
       "</table>\n",
       "</div>"
      ],
      "text/plain": [
       "    transientid  label_9\n",
       "7          5408      NaN\n",
       "8          5490      NaN\n",
       "33         6930      NaN\n",
       "39         7132      NaN\n",
       "41         7296      NaN"
      ]
     },
     "execution_count": 5,
     "metadata": {},
     "output_type": "execute_result"
    }
   ],
   "source": [
    "# Select the rows that contains nans - this will be discarded\n",
    "sel_nan_vet = vetting_table[vetting_table[threshold].isnull()]\n",
    "print('The number of sources to be discarded = {}'.format(sel_nan_vet.shape[0]))\n",
    "sel_nan_vet.head()"
   ]
  },
  {
   "cell_type": "code",
   "execution_count": 6,
   "metadata": {},
   "outputs": [
    {
     "name": "stdout",
     "output_type": "stream",
     "text": [
      "The number of sources to include in ML pipeline is 4377\n"
     ]
    },
    {
     "data": {
      "text/html": [
       "<div>\n",
       "<style scoped>\n",
       "    .dataframe tbody tr th:only-of-type {\n",
       "        vertical-align: middle;\n",
       "    }\n",
       "\n",
       "    .dataframe tbody tr th {\n",
       "        vertical-align: top;\n",
       "    }\n",
       "\n",
       "    .dataframe thead th {\n",
       "        text-align: right;\n",
       "    }\n",
       "</style>\n",
       "<table border=\"1\" class=\"dataframe\">\n",
       "  <thead>\n",
       "    <tr style=\"text-align: right;\">\n",
       "      <th></th>\n",
       "      <th>transientid</th>\n",
       "      <th>label</th>\n",
       "    </tr>\n",
       "  </thead>\n",
       "  <tbody>\n",
       "    <tr>\n",
       "      <th>0</th>\n",
       "      <td>510</td>\n",
       "      <td>0.0</td>\n",
       "    </tr>\n",
       "    <tr>\n",
       "      <th>1</th>\n",
       "      <td>607</td>\n",
       "      <td>0.0</td>\n",
       "    </tr>\n",
       "    <tr>\n",
       "      <th>2</th>\n",
       "      <td>707</td>\n",
       "      <td>0.0</td>\n",
       "    </tr>\n",
       "    <tr>\n",
       "      <th>3</th>\n",
       "      <td>725</td>\n",
       "      <td>0.0</td>\n",
       "    </tr>\n",
       "    <tr>\n",
       "      <th>4</th>\n",
       "      <td>5233</td>\n",
       "      <td>1.0</td>\n",
       "    </tr>\n",
       "  </tbody>\n",
       "</table>\n",
       "</div>"
      ],
      "text/plain": [
       "   transientid  label\n",
       "0          510    0.0\n",
       "1          607    0.0\n",
       "2          707    0.0\n",
       "3          725    0.0\n",
       "4         5233    1.0"
      ]
     },
     "execution_count": 6,
     "metadata": {},
     "output_type": "execute_result"
    }
   ],
   "source": [
    "# Select the rows that contains a label\n",
    "sel_vetted_sources = vetting_table.dropna()\n",
    "print('The number of sources to include in ML pipeline is {}'.format(sel_vetted_sources.shape[0]))\n",
    "sel_vetted_sources.columns = ['transientid','label']\n",
    "sel_vetted_sources.head()"
   ]
  },
  {
   "cell_type": "code",
   "execution_count": 7,
   "metadata": {},
   "outputs": [
    {
     "data": {
      "text/plain": [
       "(4377, 5)"
      ]
     },
     "execution_count": 7,
     "metadata": {},
     "output_type": "execute_result"
    }
   ],
   "source": [
    "# Drop rows that have transient id that were droped during vetting when using 8-2 split\n",
    "for i in range(sel_nan_vet.shape[0]):\n",
    "    #print(sel_nan_vet.transientid.iloc[i])\n",
    "    image_table = image_table[image_table.transientid != sel_nan_vet.transientid.iloc[i]]\n",
    "image_table.shape"
   ]
  },
  {
   "cell_type": "code",
   "execution_count": 8,
   "metadata": {},
   "outputs": [
    {
     "data": {
      "text/html": [
       "<div>\n",
       "<style scoped>\n",
       "    .dataframe tbody tr th:only-of-type {\n",
       "        vertical-align: middle;\n",
       "    }\n",
       "\n",
       "    .dataframe tbody tr th {\n",
       "        vertical-align: top;\n",
       "    }\n",
       "\n",
       "    .dataframe thead th {\n",
       "        text-align: right;\n",
       "    }\n",
       "</style>\n",
       "<table border=\"1\" class=\"dataframe\">\n",
       "  <thead>\n",
       "    <tr style=\"text-align: right;\">\n",
       "      <th></th>\n",
       "      <th>transientid</th>\n",
       "      <th>image_scorr</th>\n",
       "      <th>image_difference</th>\n",
       "      <th>image_ref</th>\n",
       "      <th>real_image</th>\n",
       "      <th>label</th>\n",
       "    </tr>\n",
       "  </thead>\n",
       "  <tbody>\n",
       "    <tr>\n",
       "      <th>0</th>\n",
       "      <td>510</td>\n",
       "      <td>8d8a88bd7f3e46befdf0efbe58d20cbfc7749fbee68920...</td>\n",
       "      <td>a15e0d4213091d42bb6934c2056f82c1dba00b3f0a0b08...</td>\n",
       "      <td>e0c086c180d186c1400a8e4140e6db41009980c1c0335c...</td>\n",
       "      <td>20cf2fc280e34242c088b04100caf2bf2067b741600397...</td>\n",
       "      <td>0.0</td>\n",
       "    </tr>\n",
       "    <tr>\n",
       "      <th>1</th>\n",
       "      <td>607</td>\n",
       "      <td>249f21bf06c047be191df33e7e3a8b3f9477b73f56ecc0...</td>\n",
       "      <td>a1e2c6405e74f4c1e0e3fb41d1509b424b9262c089c888...</td>\n",
       "      <td>00ae13c060660742001b8140a03771c2803c1dc2d0d00d...</td>\n",
       "      <td>009302c2a0eea54180434d410030babf60dbb14100378c...</td>\n",
       "      <td>0.0</td>\n",
       "    </tr>\n",
       "    <tr>\n",
       "      <th>2</th>\n",
       "      <td>707</td>\n",
       "      <td>d11bba3eef35283f055c9c3fda18e23f1543f43f5852c3...</td>\n",
       "      <td>f2f87b3f37732ec2f17e84c0764330422820c940270e28...</td>\n",
       "      <td>805f99c0a08b1c42c0551fc1801c49c200a0eb3ee0d8be...</td>\n",
       "      <td>0080004080b0dbc140f5cd410041eb400006abbf00f86d...</td>\n",
       "      <td>0.0</td>\n",
       "    </tr>\n",
       "    <tr>\n",
       "      <th>3</th>\n",
       "      <td>725</td>\n",
       "      <td>749523c05f6b0ec07ebab4bf93bb3cbf0f1817bfbea518...</td>\n",
       "      <td>2b7210c2dd0db9c148d605c2df31514223e31142bee1ef...</td>\n",
       "      <td>8075f04000d6c1bfc047a541409d50c130e312c240c553...</td>\n",
       "      <td>00f434c2f0b13f42a088c0c160b102c2e0aa874100f929...</td>\n",
       "      <td>0.0</td>\n",
       "    </tr>\n",
       "    <tr>\n",
       "      <th>4</th>\n",
       "      <td>5233</td>\n",
       "      <td>b9039fbf1860c4be3dba943e1fdda43e4658c5be7a25a9...</td>\n",
       "      <td>1fce21c1548e9041a1b00a43f1a2da417bcc39c2c6092a...</td>\n",
       "      <td>10d80042303906c2f0e635c26015e8c140f052c1506b2b...</td>\n",
       "      <td>000ef1c0a07c95c1585a9242c0cf36c2809d834040d989...</td>\n",
       "      <td>1.0</td>\n",
       "    </tr>\n",
       "  </tbody>\n",
       "</table>\n",
       "</div>"
      ],
      "text/plain": [
       "   transientid                                        image_scorr  \\\n",
       "0          510  8d8a88bd7f3e46befdf0efbe58d20cbfc7749fbee68920...   \n",
       "1          607  249f21bf06c047be191df33e7e3a8b3f9477b73f56ecc0...   \n",
       "2          707  d11bba3eef35283f055c9c3fda18e23f1543f43f5852c3...   \n",
       "3          725  749523c05f6b0ec07ebab4bf93bb3cbf0f1817bfbea518...   \n",
       "4         5233  b9039fbf1860c4be3dba943e1fdda43e4658c5be7a25a9...   \n",
       "\n",
       "                                    image_difference  \\\n",
       "0  a15e0d4213091d42bb6934c2056f82c1dba00b3f0a0b08...   \n",
       "1  a1e2c6405e74f4c1e0e3fb41d1509b424b9262c089c888...   \n",
       "2  f2f87b3f37732ec2f17e84c0764330422820c940270e28...   \n",
       "3  2b7210c2dd0db9c148d605c2df31514223e31142bee1ef...   \n",
       "4  1fce21c1548e9041a1b00a43f1a2da417bcc39c2c6092a...   \n",
       "\n",
       "                                           image_ref  \\\n",
       "0  e0c086c180d186c1400a8e4140e6db41009980c1c0335c...   \n",
       "1  00ae13c060660742001b8140a03771c2803c1dc2d0d00d...   \n",
       "2  805f99c0a08b1c42c0551fc1801c49c200a0eb3ee0d8be...   \n",
       "3  8075f04000d6c1bfc047a541409d50c130e312c240c553...   \n",
       "4  10d80042303906c2f0e635c26015e8c140f052c1506b2b...   \n",
       "\n",
       "                                          real_image  label  \n",
       "0  20cf2fc280e34242c088b04100caf2bf2067b741600397...    0.0  \n",
       "1  009302c2a0eea54180434d410030babf60dbb14100378c...    0.0  \n",
       "2  0080004080b0dbc140f5cd410041eb400006abbf00f86d...    0.0  \n",
       "3  00f434c2f0b13f42a088c0c160b102c2e0aa874100f929...    0.0  \n",
       "4  000ef1c0a07c95c1585a9242c0cf36c2809d834040d989...    1.0  "
      ]
     },
     "execution_count": 8,
     "metadata": {},
     "output_type": "execute_result"
    }
   ],
   "source": [
    "# Merge selected images and their respective labels\n",
    "final_dataset = pd.merge(image_table, sel_vetted_sources, on='transientid')\n",
    "final_dataset.head()"
   ]
  },
  {
   "cell_type": "code",
   "execution_count": 9,
   "metadata": {},
   "outputs": [],
   "source": [
    "final_dataset.to_csv('../data/'+threshold+'_image_data_with_label.csv',index=None)"
   ]
  },
  {
   "cell_type": "markdown",
   "metadata": {},
   "source": [
    "# Split into training and test set"
   ]
  },
  {
   "cell_type": "code",
   "execution_count": null,
   "metadata": {
    "collapsed": true
   },
   "outputs": [],
   "source": [
    "bogus_table = final_dataset[final_dataset.label == 0].sample(frac=1)\n",
    "real_table  = final_dataset[final_dataset.label == 1].sample(frac=1)\n",
    "print('Number of bogus objects is {}'.format(bogus_table.shape[0]))\n",
    "print('Number of real objects is {}'.format(real_table.shape[0]))"
   ]
  },
  {
   "cell_type": "code",
   "execution_count": null,
   "metadata": {
    "collapsed": true
   },
   "outputs": [],
   "source": [
    "percentage_split =  0.75#0.7\n",
    "train_bogus_table = bogus_table.iloc[0:int(percentage_split*bogus_table.shape[0]),:]\n",
    "test_bogus_table  = bogus_table.iloc[int(percentage_split*bogus_table.shape[0]):,:]\n",
    "train_real_table  = real_table.iloc[0:int(percentage_split*real_table.shape[0]),:]\n",
    "test_real_table   = real_table.iloc[int(percentage_split*real_table.shape[0]):,:]\n",
    "print('Bogus objects in training set is {} and in test set is {}'.format(train_bogus_table.shape,test_bogus_table.shape))\n",
    "print('Real objects in training set is {} and in test set is {}'.format(train_real_table.shape,test_real_table.shape))\n"
   ]
  },
  {
   "cell_type": "code",
   "execution_count": null,
   "metadata": {
    "collapsed": true
   },
   "outputs": [],
   "source": [
    "trainingset_merge = [train_bogus_table,train_real_table]\n",
    "testingset_merge  = [test_bogus_table,test_real_table]\n",
    "trainingset       = pd.concat(trainingset_merge)\n",
    "testingset        = pd.concat(testingset_merge).sample(frac=1).reset_index(drop=True)\n",
    "print('The training set contains {} objects'.format(trainingset.shape[0]))\n",
    "print('The test set contains {} objects'.format(testingset.shape[0]))\n"
   ]
  },
  {
   "cell_type": "code",
   "execution_count": null,
   "metadata": {
    "collapsed": true
   },
   "outputs": [],
   "source": [
    "trainingset.to_csv('../data/'+threshold+'_training_set.csv',index=None)\n",
    "testingset.to_csv('../data/'+threshold+'_testing_set.csv',index=None)"
   ]
  },
  {
   "cell_type": "code",
   "execution_count": null,
   "metadata": {
    "collapsed": true
   },
   "outputs": [],
   "source": []
  },
  {
   "cell_type": "code",
   "execution_count": null,
   "metadata": {
    "collapsed": true
   },
   "outputs": [],
   "source": []
  },
  {
   "cell_type": "code",
   "execution_count": null,
   "metadata": {
    "collapsed": true
   },
   "outputs": [],
   "source": []
  }
 ],
 "metadata": {
  "kernelspec": {
   "display_name": "Python 3",
   "language": "python",
   "name": "python3"
  },
  "language_info": {
   "codemirror_mode": {
    "name": "ipython",
    "version": 3
   },
   "file_extension": ".py",
   "mimetype": "text/x-python",
   "name": "python",
   "nbconvert_exporter": "python",
   "pygments_lexer": "ipython3",
   "version": "3.6.10"
  }
 },
 "nbformat": 4,
 "nbformat_minor": 2
}
