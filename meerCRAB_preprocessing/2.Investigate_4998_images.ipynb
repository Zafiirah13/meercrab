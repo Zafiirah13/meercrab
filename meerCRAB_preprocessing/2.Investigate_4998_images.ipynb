{
 "cells": [
  {
   "cell_type": "code",
   "execution_count": 1,
   "metadata": {},
   "outputs": [],
   "source": [
    "# This script will analyse the vetting of all candidates. Then we will decide which threshold\n",
    "# we will use during training and prediction.\n",
    "import numpy as np\n",
    "import pandas as pd\n",
    "from astropy.table import Table\n",
    "import matplotlib.pylab as plt\n",
    "\n",
    "figSize  = (16, 10)\n",
    "fontSize = 20\n",
    "%matplotlib inline"
   ]
  },
  {
   "cell_type": "code",
   "execution_count": 2,
   "metadata": {},
   "outputs": [],
   "source": [
    "data_dir = '../data/'\n",
    "fits_file = 'vetting_4Zafiirah_20200714102528.fits'"
   ]
  },
  {
   "cell_type": "code",
   "execution_count": 3,
   "metadata": {},
   "outputs": [],
   "source": [
    "# Read fits file\n",
    "table = Table.read(data_dir+fits_file)"
   ]
  },
  {
   "cell_type": "code",
   "execution_count": 4,
   "metadata": {},
   "outputs": [
    {
     "name": "stdout",
     "output_type": "stream",
     "text": [
      "['transientid', 'username', 'vettingdate', 'vetclas', 'number', 'image', 'date-obs', 'filter', 'object', 't-ntrans', 'pc-zpstd', 'psf-fwhm', 's-seeing', 's-seestd', 'x_peak', 'y_peak', 'ra_peak', 'dec_peak', 'flux_peak', 'fluxerr_peak', 'mag_peak', 'magerr_peak']\n"
     ]
    },
    {
     "data": {
      "text/html": [
       "<div>\n",
       "<style scoped>\n",
       "    .dataframe tbody tr th:only-of-type {\n",
       "        vertical-align: middle;\n",
       "    }\n",
       "\n",
       "    .dataframe tbody tr th {\n",
       "        vertical-align: top;\n",
       "    }\n",
       "\n",
       "    .dataframe thead th {\n",
       "        text-align: right;\n",
       "    }\n",
       "</style>\n",
       "<table border=\"1\" class=\"dataframe\">\n",
       "  <thead>\n",
       "    <tr style=\"text-align: right;\">\n",
       "      <th></th>\n",
       "      <th>transientid</th>\n",
       "      <th>username</th>\n",
       "      <th>vettingdate</th>\n",
       "      <th>vetclas</th>\n",
       "      <th>number</th>\n",
       "      <th>image</th>\n",
       "      <th>date-obs</th>\n",
       "      <th>filter</th>\n",
       "      <th>object</th>\n",
       "      <th>t-ntrans</th>\n",
       "      <th>...</th>\n",
       "      <th>s-seeing</th>\n",
       "      <th>s-seestd</th>\n",
       "      <th>x_peak</th>\n",
       "      <th>y_peak</th>\n",
       "      <th>ra_peak</th>\n",
       "      <th>dec_peak</th>\n",
       "      <th>flux_peak</th>\n",
       "      <th>fluxerr_peak</th>\n",
       "      <th>mag_peak</th>\n",
       "      <th>magerr_peak</th>\n",
       "    </tr>\n",
       "  </thead>\n",
       "  <tbody>\n",
       "    <tr>\n",
       "      <th>0</th>\n",
       "      <td>510</td>\n",
       "      <td>b'dpieterse'</td>\n",
       "      <td>b'2020-05-08 00:06:45.492000'</td>\n",
       "      <td>b'bogus'</td>\n",
       "      <td>547</td>\n",
       "      <td>5</td>\n",
       "      <td>b'2017-09-01 17:36:00.000000'</td>\n",
       "      <td>b'q'</td>\n",
       "      <td>90005</td>\n",
       "      <td>170</td>\n",
       "      <td>...</td>\n",
       "      <td>2.601214</td>\n",
       "      <td>0.078431</td>\n",
       "      <td>9848</td>\n",
       "      <td>8471</td>\n",
       "      <td>233.559933</td>\n",
       "      <td>-13.202148</td>\n",
       "      <td>105.561905</td>\n",
       "      <td>7.361342</td>\n",
       "      <td>18.841297</td>\n",
       "      <td>0.075714</td>\n",
       "    </tr>\n",
       "    <tr>\n",
       "      <th>1</th>\n",
       "      <td>510</td>\n",
       "      <td>b'pmv'</td>\n",
       "      <td>b'2020-05-08 00:09:02.602000'</td>\n",
       "      <td>b'bogus'</td>\n",
       "      <td>547</td>\n",
       "      <td>5</td>\n",
       "      <td>b'2017-09-01 17:36:00.000000'</td>\n",
       "      <td>b'q'</td>\n",
       "      <td>90005</td>\n",
       "      <td>170</td>\n",
       "      <td>...</td>\n",
       "      <td>2.601214</td>\n",
       "      <td>0.078431</td>\n",
       "      <td>9848</td>\n",
       "      <td>8471</td>\n",
       "      <td>233.559933</td>\n",
       "      <td>-13.202148</td>\n",
       "      <td>105.561905</td>\n",
       "      <td>7.361342</td>\n",
       "      <td>18.841297</td>\n",
       "      <td>0.075714</td>\n",
       "    </tr>\n",
       "    <tr>\n",
       "      <th>2</th>\n",
       "      <td>510</td>\n",
       "      <td>b'pgroot'</td>\n",
       "      <td>b'2020-05-08 09:12:52.507000'</td>\n",
       "      <td>b'bogus'</td>\n",
       "      <td>547</td>\n",
       "      <td>5</td>\n",
       "      <td>b'2017-09-01 17:36:00.000000'</td>\n",
       "      <td>b'q'</td>\n",
       "      <td>90005</td>\n",
       "      <td>170</td>\n",
       "      <td>...</td>\n",
       "      <td>2.601214</td>\n",
       "      <td>0.078431</td>\n",
       "      <td>9848</td>\n",
       "      <td>8471</td>\n",
       "      <td>233.559933</td>\n",
       "      <td>-13.202148</td>\n",
       "      <td>105.561905</td>\n",
       "      <td>7.361342</td>\n",
       "      <td>18.841297</td>\n",
       "      <td>0.075714</td>\n",
       "    </tr>\n",
       "    <tr>\n",
       "      <th>3</th>\n",
       "      <td>510</td>\n",
       "      <td>b'simon'</td>\n",
       "      <td>b'2020-05-08 09:20:26.132000'</td>\n",
       "      <td>b'bogus'</td>\n",
       "      <td>547</td>\n",
       "      <td>5</td>\n",
       "      <td>b'2017-09-01 17:36:00.000000'</td>\n",
       "      <td>b'q'</td>\n",
       "      <td>90005</td>\n",
       "      <td>170</td>\n",
       "      <td>...</td>\n",
       "      <td>2.601214</td>\n",
       "      <td>0.078431</td>\n",
       "      <td>9848</td>\n",
       "      <td>8471</td>\n",
       "      <td>233.559933</td>\n",
       "      <td>-13.202148</td>\n",
       "      <td>105.561905</td>\n",
       "      <td>7.361342</td>\n",
       "      <td>18.841297</td>\n",
       "      <td>0.075714</td>\n",
       "    </tr>\n",
       "    <tr>\n",
       "      <th>4</th>\n",
       "      <td>510</td>\n",
       "      <td>b'nblago'</td>\n",
       "      <td>b'2020-05-08 10:33:52.220000'</td>\n",
       "      <td>b'bogus'</td>\n",
       "      <td>547</td>\n",
       "      <td>5</td>\n",
       "      <td>b'2017-09-01 17:36:00.000000'</td>\n",
       "      <td>b'q'</td>\n",
       "      <td>90005</td>\n",
       "      <td>170</td>\n",
       "      <td>...</td>\n",
       "      <td>2.601214</td>\n",
       "      <td>0.078431</td>\n",
       "      <td>9848</td>\n",
       "      <td>8471</td>\n",
       "      <td>233.559933</td>\n",
       "      <td>-13.202148</td>\n",
       "      <td>105.561905</td>\n",
       "      <td>7.361342</td>\n",
       "      <td>18.841297</td>\n",
       "      <td>0.075714</td>\n",
       "    </tr>\n",
       "  </tbody>\n",
       "</table>\n",
       "<p>5 rows × 22 columns</p>\n",
       "</div>"
      ],
      "text/plain": [
       "   transientid      username                    vettingdate   vetclas  number  \\\n",
       "0          510  b'dpieterse'  b'2020-05-08 00:06:45.492000'  b'bogus'     547   \n",
       "1          510        b'pmv'  b'2020-05-08 00:09:02.602000'  b'bogus'     547   \n",
       "2          510     b'pgroot'  b'2020-05-08 09:12:52.507000'  b'bogus'     547   \n",
       "3          510      b'simon'  b'2020-05-08 09:20:26.132000'  b'bogus'     547   \n",
       "4          510     b'nblago'  b'2020-05-08 10:33:52.220000'  b'bogus'     547   \n",
       "\n",
       "   image                       date-obs filter  object  t-ntrans  ...  \\\n",
       "0      5  b'2017-09-01 17:36:00.000000'   b'q'   90005       170  ...   \n",
       "1      5  b'2017-09-01 17:36:00.000000'   b'q'   90005       170  ...   \n",
       "2      5  b'2017-09-01 17:36:00.000000'   b'q'   90005       170  ...   \n",
       "3      5  b'2017-09-01 17:36:00.000000'   b'q'   90005       170  ...   \n",
       "4      5  b'2017-09-01 17:36:00.000000'   b'q'   90005       170  ...   \n",
       "\n",
       "   s-seeing  s-seestd  x_peak  y_peak     ra_peak   dec_peak   flux_peak  \\\n",
       "0  2.601214  0.078431    9848    8471  233.559933 -13.202148  105.561905   \n",
       "1  2.601214  0.078431    9848    8471  233.559933 -13.202148  105.561905   \n",
       "2  2.601214  0.078431    9848    8471  233.559933 -13.202148  105.561905   \n",
       "3  2.601214  0.078431    9848    8471  233.559933 -13.202148  105.561905   \n",
       "4  2.601214  0.078431    9848    8471  233.559933 -13.202148  105.561905   \n",
       "\n",
       "   fluxerr_peak   mag_peak  magerr_peak  \n",
       "0      7.361342  18.841297     0.075714  \n",
       "1      7.361342  18.841297     0.075714  \n",
       "2      7.361342  18.841297     0.075714  \n",
       "3      7.361342  18.841297     0.075714  \n",
       "4      7.361342  18.841297     0.075714  \n",
       "\n",
       "[5 rows x 22 columns]"
      ]
     },
     "execution_count": 4,
     "metadata": {},
     "output_type": "execute_result"
    }
   ],
   "source": [
    "# Convert fits file to pandas data frame\n",
    "# removing the images from the data frame due to high dimensional data\n",
    "names = [name for name in table.colnames if len(table[name].shape) <= 1]\n",
    "print(names)\n",
    "param_table = table[names].to_pandas()\n",
    "param_table.head()"
   ]
  },
  {
   "cell_type": "code",
   "execution_count": 5,
   "metadata": {},
   "outputs": [],
   "source": [
    "#param_table.to_csv('params_table.csv',index=None)"
   ]
  },
  {
   "cell_type": "code",
   "execution_count": 5,
   "metadata": {},
   "outputs": [
    {
     "data": {
      "text/plain": [
       "array([b'dpieterse', b'pmv', b'pgroot', b'simon', b'nblago', b'jkersten',\n",
       "       b'sbloemen', b'naomi', b'AstroLauraD', b'zafiirah', b'dmodiano',\n",
       "       b'mbeijer', b'rruizc'], dtype=object)"
      ]
     },
     "execution_count": 5,
     "metadata": {},
     "output_type": "execute_result"
    }
   ],
   "source": [
    "param_table.username.unique()"
   ]
  },
  {
   "cell_type": "code",
   "execution_count": 6,
   "metadata": {},
   "outputs": [
    {
     "name": "stdout",
     "output_type": "stream",
     "text": [
      "The number of sources in dataset 5000\n"
     ]
    }
   ],
   "source": [
    "print(\"The number of sources in dataset {}\".format(len(np.unique(param_table.transientid))))"
   ]
  },
  {
   "cell_type": "code",
   "execution_count": 7,
   "metadata": {},
   "outputs": [
    {
     "name": "stdout",
     "output_type": "stream",
     "text": [
      "(5000,)\n",
      "(5000, 9)\n"
     ]
    }
   ],
   "source": [
    "table1 = param_table\n",
    "transientids = table1.transientid.unique()\n",
    "final_table  = pd.DataFrame()\n",
    "print(transientids.shape)\n",
    "\n",
    "for ids in transientids:\n",
    "    source   = table1[table1.transientid==ids]    \n",
    "    matching_bogus = [b for b in source['vetclas'].values if b\"bogus\" in b]\n",
    "    matching_real  = [r for r in source['vetclas'].values if b\"real\" in r]\n",
    "    make_table = pd.DataFrame([ids],columns=['transientid'])\n",
    "    make_table['bogus'] = len(matching_bogus)\n",
    "    make_table['real']  = len(matching_real)\n",
    "    #print(len(matching_bogus),len(matching_real))\n",
    "    for i in range(5,11):\n",
    "        if len(matching_bogus) >= i:\n",
    "            make_table['label_'+str(i)] = 0\n",
    "        elif len(matching_real) >= i:\n",
    "            make_table['label_'+str(i)] = 1\n",
    "        else:\n",
    "            make_table['label_'+str(i)] = None\n",
    "                    \n",
    "    final_table         = final_table.append(make_table,ignore_index=True)\n",
    "print(final_table.shape)"
   ]
  },
  {
   "cell_type": "code",
   "execution_count": 8,
   "metadata": {},
   "outputs": [
    {
     "data": {
      "text/html": [
       "<div>\n",
       "<style scoped>\n",
       "    .dataframe tbody tr th:only-of-type {\n",
       "        vertical-align: middle;\n",
       "    }\n",
       "\n",
       "    .dataframe tbody tr th {\n",
       "        vertical-align: top;\n",
       "    }\n",
       "\n",
       "    .dataframe thead th {\n",
       "        text-align: right;\n",
       "    }\n",
       "</style>\n",
       "<table border=\"1\" class=\"dataframe\">\n",
       "  <thead>\n",
       "    <tr style=\"text-align: right;\">\n",
       "      <th></th>\n",
       "      <th>transientid</th>\n",
       "      <th>bogus</th>\n",
       "      <th>real</th>\n",
       "      <th>label_5</th>\n",
       "      <th>label_6</th>\n",
       "      <th>label_7</th>\n",
       "      <th>label_8</th>\n",
       "      <th>label_9</th>\n",
       "      <th>label_10</th>\n",
       "    </tr>\n",
       "  </thead>\n",
       "  <tbody>\n",
       "    <tr>\n",
       "      <th>0</th>\n",
       "      <td>510</td>\n",
       "      <td>10</td>\n",
       "      <td>0</td>\n",
       "      <td>0</td>\n",
       "      <td>0</td>\n",
       "      <td>0</td>\n",
       "      <td>0</td>\n",
       "      <td>0</td>\n",
       "      <td>0</td>\n",
       "    </tr>\n",
       "    <tr>\n",
       "      <th>1</th>\n",
       "      <td>607</td>\n",
       "      <td>9</td>\n",
       "      <td>1</td>\n",
       "      <td>0</td>\n",
       "      <td>0</td>\n",
       "      <td>0</td>\n",
       "      <td>0</td>\n",
       "      <td>0</td>\n",
       "      <td>None</td>\n",
       "    </tr>\n",
       "    <tr>\n",
       "      <th>2</th>\n",
       "      <td>707</td>\n",
       "      <td>10</td>\n",
       "      <td>0</td>\n",
       "      <td>0</td>\n",
       "      <td>0</td>\n",
       "      <td>0</td>\n",
       "      <td>0</td>\n",
       "      <td>0</td>\n",
       "      <td>0</td>\n",
       "    </tr>\n",
       "    <tr>\n",
       "      <th>3</th>\n",
       "      <td>725</td>\n",
       "      <td>10</td>\n",
       "      <td>0</td>\n",
       "      <td>0</td>\n",
       "      <td>0</td>\n",
       "      <td>0</td>\n",
       "      <td>0</td>\n",
       "      <td>0</td>\n",
       "      <td>0</td>\n",
       "    </tr>\n",
       "    <tr>\n",
       "      <th>4</th>\n",
       "      <td>5233</td>\n",
       "      <td>0</td>\n",
       "      <td>10</td>\n",
       "      <td>1</td>\n",
       "      <td>1</td>\n",
       "      <td>1</td>\n",
       "      <td>1</td>\n",
       "      <td>1</td>\n",
       "      <td>1</td>\n",
       "    </tr>\n",
       "  </tbody>\n",
       "</table>\n",
       "</div>"
      ],
      "text/plain": [
       "   transientid  bogus  real  label_5 label_6 label_7 label_8 label_9 label_10\n",
       "0          510     10     0        0       0       0       0       0        0\n",
       "1          607      9     1        0       0       0       0       0     None\n",
       "2          707     10     0        0       0       0       0       0        0\n",
       "3          725     10     0        0       0       0       0       0        0\n",
       "4         5233      0    10        1       1       1       1       1        1"
      ]
     },
     "execution_count": 8,
     "metadata": {},
     "output_type": "execute_result"
    }
   ],
   "source": [
    "final_table.head()"
   ]
  },
  {
   "cell_type": "code",
   "execution_count": 9,
   "metadata": {},
   "outputs": [],
   "source": [
    "final_table.to_csv('../data/voting_5000.csv',index=None)"
   ]
  },
  {
   "cell_type": "code",
   "execution_count": 10,
   "metadata": {},
   "outputs": [],
   "source": [
    "final_table = pd.read_csv('../data/voting_5000.csv')"
   ]
  },
  {
   "cell_type": "code",
   "execution_count": 11,
   "metadata": {},
   "outputs": [
    {
     "name": "stdout",
     "output_type": "stream",
     "text": [
      "[ 5  6  7  8  9 10]\n"
     ]
    }
   ],
   "source": [
    "n_real  = []\n",
    "n_bogus = []\n",
    "num_people = np.arange(5,11)\n",
    "for j in range(5,11):\n",
    "    num_real  = final_table[final_table['label_'+str(j)] == 1].shape[0]\n",
    "    num_bogus = final_table[final_table['label_'+str(j)] == 0].shape[0]\n",
    "    n_real.append(num_real)\n",
    "    n_bogus.append(num_bogus)\n",
    "    \n",
    "print(str(num_people))"
   ]
  },
  {
   "cell_type": "code",
   "execution_count": 12,
   "metadata": {},
   "outputs": [
    {
     "data": {
      "image/png": "[encoded data removed]",
      "text/plain": [
       "<Figure size 1152x720 with 1 Axes>"
      ]
     },
     "metadata": {
      "needs_background": "light"
     },
     "output_type": "display_data"
    }
   ],
   "source": [
    "labels     = ['Atleast 5','Atleast 6', 'Atleast 7', 'Atleast 8', 'Atleast 9', 'Atleast 10']\n",
    "bar_width = 0.4\n",
    "opacity   = 0.75\n",
    "plt.figure(figsize = figSize)\n",
    "\n",
    "\n",
    "def top(rects):\n",
    "    # For each bar: Place a label\n",
    "    for rect in rects:\n",
    "        # Get X and Y placement of label from rect.\n",
    "        y_value = rect.get_height()\n",
    "        x_value = rect.get_x() + rect.get_width() / 2\n",
    "\n",
    "        # Number of points between bar and label. Change to your liking.\n",
    "        space = 4\n",
    "        # Vertical alignment for positive values\n",
    "        va = 'bottom'\n",
    "\n",
    "        # If value of bar is negative: Place label below bar\n",
    "        if y_value < 0:\n",
    "            # Invert space to place label below\n",
    "            space *= -1\n",
    "            # Vertically align label at top\n",
    "            va = 'top'\n",
    "\n",
    "        # Use Y value as label and format number with one decimal place\n",
    "        label = \"{:.0f}\".format(y_value)\n",
    "\n",
    "        # Create annotation\n",
    "        plt.annotate(\n",
    "            label,                      # Use `label` as label\n",
    "            (x_value, y_value),         # Place label at end of the bar\n",
    "            xytext=(0, space),          # Vertically shift label by `space`\n",
    "            textcoords=\"offset points\", # Interpret `xytext` as offset in points\n",
    "            ha='center',                # Horizontally center label\n",
    "            va=va,fontsize=fontSize)                      # Vertically align label differently for\n",
    "                                        # positive and negative values.\n",
    "\n",
    "ax = plt.bar(np.arange(6),n_bogus, bar_width, alpha = opacity, label = 'Bogus', color = 'r')\n",
    "top(ax.patches)\n",
    "ax = plt.bar(np.arange(6)+bar_width,n_real, bar_width, alpha = opacity, label = 'Real', color = 'b')\n",
    "top(ax.patches)\n",
    "plt.ylabel('Number of candidate files', fontsize = fontSize)\n",
    "plt.xlabel('Number of Vetters', fontsize = fontSize)\n",
    "plt.tick_params(axis='both', labelsize=fontSize)\n",
    "plt.xticks(np.arange(6)+bar_width/2, labels)\n",
    "plt.ylim(0,2800)\n",
    "plt.legend(loc = 'best')\n",
    "#plt.savefig('Consistency_in_labelling_5000.pdf', bbox_inches='tight', pad_inches=0.1)\n",
    "\n",
    "# rects = ax.patches\n",
    "\n",
    "\n",
    "plt.show()"
   ]
  },
  {
   "cell_type": "code",
   "execution_count": null,
   "metadata": {},
   "outputs": [],
   "source": []
  },
  {
   "cell_type": "code",
   "execution_count": null,
   "metadata": {},
   "outputs": [],
   "source": []
  }
 ],
 "metadata": {
  "kernelspec": {
   "display_name": "Python 3",
   "language": "python",
   "name": "python3"
  },
  "language_info": {
   "codemirror_mode": {
    "name": "ipython",
    "version": 3
   },
   "file_extension": ".py",
   "mimetype": "text/x-python",
   "name": "python",
   "nbconvert_exporter": "python",
   "pygments_lexer": "ipython3",
   "version": "3.6.10"
  }
 },
 "nbformat": 4,
 "nbformat_minor": 2
}
