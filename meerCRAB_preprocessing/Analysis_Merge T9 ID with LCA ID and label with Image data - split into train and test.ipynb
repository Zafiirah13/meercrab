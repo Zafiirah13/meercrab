{
 "cells": [
  {
   "cell_type": "code",
   "execution_count": 1,
   "metadata": {},
   "outputs": [],
   "source": [
    "import pandas as pd"
   ]
  },
  {
   "cell_type": "code",
   "execution_count": 2,
   "metadata": {},
   "outputs": [],
   "source": [
    "label9_table = pd.read_csv('../data/extra_analysis_data/label_9_image_data_with_label.csv')"
   ]
  },
  {
   "cell_type": "code",
   "execution_count": 3,
   "metadata": {},
   "outputs": [],
   "source": [
    "lca_table = pd.read_csv('../data/extra_analysis_data/LCA_image_data_with_label.csv')"
   ]
  },
  {
   "cell_type": "code",
   "execution_count": 4,
   "metadata": {},
   "outputs": [
    {
     "data": {
      "text/plain": [
       "0           510\n",
       "1           607\n",
       "2           707\n",
       "3           725\n",
       "4          5233\n",
       "         ...   \n",
       "4372    3002484\n",
       "4373    3002513\n",
       "4374    3002550\n",
       "4375    3002827\n",
       "4376    3002953\n",
       "Name: transientid, Length: 4377, dtype: int64"
      ]
     },
     "execution_count": 4,
     "metadata": {},
     "output_type": "execute_result"
    }
   ],
   "source": [
    "label9_ID = label9_table['transientid']\n",
    "label9_ID"
   ]
  },
  {
   "cell_type": "code",
   "execution_count": 5,
   "metadata": {
    "scrolled": true
   },
   "outputs": [
    {
     "data": {
      "text/html": [
       "<div>\n",
       "<style scoped>\n",
       "    .dataframe tbody tr th:only-of-type {\n",
       "        vertical-align: middle;\n",
       "    }\n",
       "\n",
       "    .dataframe tbody tr th {\n",
       "        vertical-align: top;\n",
       "    }\n",
       "\n",
       "    .dataframe thead th {\n",
       "        text-align: right;\n",
       "    }\n",
       "</style>\n",
       "<table border=\"1\" class=\"dataframe\">\n",
       "  <thead>\n",
       "    <tr style=\"text-align: right;\">\n",
       "      <th></th>\n",
       "      <th>transientid</th>\n",
       "      <th>image_scorr</th>\n",
       "      <th>image_difference</th>\n",
       "      <th>image_ref</th>\n",
       "      <th>real_image</th>\n",
       "      <th>label</th>\n",
       "    </tr>\n",
       "  </thead>\n",
       "  <tbody>\n",
       "    <tr>\n",
       "      <th>0</th>\n",
       "      <td>510</td>\n",
       "      <td>8d8a88bd7f3e46befdf0efbe58d20cbfc7749fbee68920...</td>\n",
       "      <td>a15e0d4213091d42bb6934c2056f82c1dba00b3f0a0b08...</td>\n",
       "      <td>e0c086c180d186c1400a8e4140e6db41009980c1c0335c...</td>\n",
       "      <td>20cf2fc280e34242c088b04100caf2bf2067b741600397...</td>\n",
       "      <td>0</td>\n",
       "    </tr>\n",
       "    <tr>\n",
       "      <th>1</th>\n",
       "      <td>607</td>\n",
       "      <td>249f21bf06c047be191df33e7e3a8b3f9477b73f56ecc0...</td>\n",
       "      <td>a1e2c6405e74f4c1e0e3fb41d1509b424b9262c089c888...</td>\n",
       "      <td>00ae13c060660742001b8140a03771c2803c1dc2d0d00d...</td>\n",
       "      <td>009302c2a0eea54180434d410030babf60dbb14100378c...</td>\n",
       "      <td>0</td>\n",
       "    </tr>\n",
       "    <tr>\n",
       "      <th>2</th>\n",
       "      <td>707</td>\n",
       "      <td>d11bba3eef35283f055c9c3fda18e23f1543f43f5852c3...</td>\n",
       "      <td>f2f87b3f37732ec2f17e84c0764330422820c940270e28...</td>\n",
       "      <td>805f99c0a08b1c42c0551fc1801c49c200a0eb3ee0d8be...</td>\n",
       "      <td>0080004080b0dbc140f5cd410041eb400006abbf00f86d...</td>\n",
       "      <td>0</td>\n",
       "    </tr>\n",
       "    <tr>\n",
       "      <th>3</th>\n",
       "      <td>725</td>\n",
       "      <td>749523c05f6b0ec07ebab4bf93bb3cbf0f1817bfbea518...</td>\n",
       "      <td>2b7210c2dd0db9c148d605c2df31514223e31142bee1ef...</td>\n",
       "      <td>8075f04000d6c1bfc047a541409d50c130e312c240c553...</td>\n",
       "      <td>00f434c2f0b13f42a088c0c160b102c2e0aa874100f929...</td>\n",
       "      <td>0</td>\n",
       "    </tr>\n",
       "    <tr>\n",
       "      <th>4</th>\n",
       "      <td>5233</td>\n",
       "      <td>b9039fbf1860c4be3dba943e1fdda43e4658c5be7a25a9...</td>\n",
       "      <td>1fce21c1548e9041a1b00a43f1a2da417bcc39c2c6092a...</td>\n",
       "      <td>10d80042303906c2f0e635c26015e8c140f052c1506b2b...</td>\n",
       "      <td>000ef1c0a07c95c1585a9242c0cf36c2809d834040d989...</td>\n",
       "      <td>1</td>\n",
       "    </tr>\n",
       "    <tr>\n",
       "      <th>...</th>\n",
       "      <td>...</td>\n",
       "      <td>...</td>\n",
       "      <td>...</td>\n",
       "      <td>...</td>\n",
       "      <td>...</td>\n",
       "      <td>...</td>\n",
       "    </tr>\n",
       "    <tr>\n",
       "      <th>4993</th>\n",
       "      <td>3002484</td>\n",
       "      <td>5fcde63ea5b2543f255d6e3f9d86513f21ce243f0aedfb...</td>\n",
       "      <td>b06805c26236b5c17a1881c1dad9c2412e0618413c69a8...</td>\n",
       "      <td>000c59411a4420424020b540a0a83840782d354180ec16...</td>\n",
       "      <td>b82c7ec178a654c15018f840b0305841d8c87bc1e08386...</td>\n",
       "      <td>0</td>\n",
       "    </tr>\n",
       "    <tr>\n",
       "      <th>4994</th>\n",
       "      <td>3002513</td>\n",
       "      <td>81c6d23dd523b7bc547640be6869a5be09cac6be0a7aca...</td>\n",
       "      <td>048ed4c12b220641d83607c0d05ae6c11b47f9406dbadc...</td>\n",
       "      <td>a4b0f341401d9fbfa0117f4160447241a0cbe240781331...</td>\n",
       "      <td>0031f63e5c1abf41223c01423873e94100744d3e98d58b...</td>\n",
       "      <td>0</td>\n",
       "    </tr>\n",
       "    <tr>\n",
       "      <th>4995</th>\n",
       "      <td>3002550</td>\n",
       "      <td>0a35c63e825c80bc52bf62be1a752ebeb1d4d63da6eceb...</td>\n",
       "      <td>4563b3c059774e41912a3bc12ef406c2629003c20675a3...</td>\n",
       "      <td>8cfd9c412022d940c88f334130f79941f07632413004b2...</td>\n",
       "      <td>b0dbf641bd8e54c0b01a7f3ffa493241b0cfddc1ec8412...</td>\n",
       "      <td>1</td>\n",
       "    </tr>\n",
       "    <tr>\n",
       "      <th>4996</th>\n",
       "      <td>3002827</td>\n",
       "      <td>54dd28bf8bc834bf66ad31bf65e134bfb22c59bfe64593...</td>\n",
       "      <td>c9cbadc00da9dec1e6338c40eee20142e43107415de023...</td>\n",
       "      <td>10df4ac100c059bc003b444190c9a7c010754dc1605da8...</td>\n",
       "      <td>bc09c9c160a5464038b9ae41e03d4c4050f4404140727a...</td>\n",
       "      <td>0</td>\n",
       "    </tr>\n",
       "    <tr>\n",
       "      <th>4997</th>\n",
       "      <td>3002953</td>\n",
       "      <td>35cacdbf2c86acbf272073bfbd4f01bf55c03fbe9c171e...</td>\n",
       "      <td>fe41c8c135c1c9c03d581bc2a6d4b0c18168c940a486cf...</td>\n",
       "      <td>6096384084b3b5c1f4d91c424049704000f0e93ee8e83d...</td>\n",
       "      <td>551995413e122ac13001f93e5d82eb4063a065c148cb1e...</td>\n",
       "      <td>0</td>\n",
       "    </tr>\n",
       "  </tbody>\n",
       "</table>\n",
       "<p>4377 rows × 6 columns</p>\n",
       "</div>"
      ],
      "text/plain": [
       "      transientid                                        image_scorr  \\\n",
       "0             510  8d8a88bd7f3e46befdf0efbe58d20cbfc7749fbee68920...   \n",
       "1             607  249f21bf06c047be191df33e7e3a8b3f9477b73f56ecc0...   \n",
       "2             707  d11bba3eef35283f055c9c3fda18e23f1543f43f5852c3...   \n",
       "3             725  749523c05f6b0ec07ebab4bf93bb3cbf0f1817bfbea518...   \n",
       "4            5233  b9039fbf1860c4be3dba943e1fdda43e4658c5be7a25a9...   \n",
       "...           ...                                                ...   \n",
       "4993      3002484  5fcde63ea5b2543f255d6e3f9d86513f21ce243f0aedfb...   \n",
       "4994      3002513  81c6d23dd523b7bc547640be6869a5be09cac6be0a7aca...   \n",
       "4995      3002550  0a35c63e825c80bc52bf62be1a752ebeb1d4d63da6eceb...   \n",
       "4996      3002827  54dd28bf8bc834bf66ad31bf65e134bfb22c59bfe64593...   \n",
       "4997      3002953  35cacdbf2c86acbf272073bfbd4f01bf55c03fbe9c171e...   \n",
       "\n",
       "                                       image_difference  \\\n",
       "0     a15e0d4213091d42bb6934c2056f82c1dba00b3f0a0b08...   \n",
       "1     a1e2c6405e74f4c1e0e3fb41d1509b424b9262c089c888...   \n",
       "2     f2f87b3f37732ec2f17e84c0764330422820c940270e28...   \n",
       "3     2b7210c2dd0db9c148d605c2df31514223e31142bee1ef...   \n",
       "4     1fce21c1548e9041a1b00a43f1a2da417bcc39c2c6092a...   \n",
       "...                                                 ...   \n",
       "4993  b06805c26236b5c17a1881c1dad9c2412e0618413c69a8...   \n",
       "4994  048ed4c12b220641d83607c0d05ae6c11b47f9406dbadc...   \n",
       "4995  4563b3c059774e41912a3bc12ef406c2629003c20675a3...   \n",
       "4996  c9cbadc00da9dec1e6338c40eee20142e43107415de023...   \n",
       "4997  fe41c8c135c1c9c03d581bc2a6d4b0c18168c940a486cf...   \n",
       "\n",
       "                                              image_ref  \\\n",
       "0     e0c086c180d186c1400a8e4140e6db41009980c1c0335c...   \n",
       "1     00ae13c060660742001b8140a03771c2803c1dc2d0d00d...   \n",
       "2     805f99c0a08b1c42c0551fc1801c49c200a0eb3ee0d8be...   \n",
       "3     8075f04000d6c1bfc047a541409d50c130e312c240c553...   \n",
       "4     10d80042303906c2f0e635c26015e8c140f052c1506b2b...   \n",
       "...                                                 ...   \n",
       "4993  000c59411a4420424020b540a0a83840782d354180ec16...   \n",
       "4994  a4b0f341401d9fbfa0117f4160447241a0cbe240781331...   \n",
       "4995  8cfd9c412022d940c88f334130f79941f07632413004b2...   \n",
       "4996  10df4ac100c059bc003b444190c9a7c010754dc1605da8...   \n",
       "4997  6096384084b3b5c1f4d91c424049704000f0e93ee8e83d...   \n",
       "\n",
       "                                             real_image  label  \n",
       "0     20cf2fc280e34242c088b04100caf2bf2067b741600397...      0  \n",
       "1     009302c2a0eea54180434d410030babf60dbb14100378c...      0  \n",
       "2     0080004080b0dbc140f5cd410041eb400006abbf00f86d...      0  \n",
       "3     00f434c2f0b13f42a088c0c160b102c2e0aa874100f929...      0  \n",
       "4     000ef1c0a07c95c1585a9242c0cf36c2809d834040d989...      1  \n",
       "...                                                 ...    ...  \n",
       "4993  b82c7ec178a654c15018f840b0305841d8c87bc1e08386...      0  \n",
       "4994  0031f63e5c1abf41223c01423873e94100744d3e98d58b...      0  \n",
       "4995  b0dbf641bd8e54c0b01a7f3ffa493241b0cfddc1ec8412...      1  \n",
       "4996  bc09c9c160a5464038b9ae41e03d4c4050f4404140727a...      0  \n",
       "4997  551995413e122ac13001f93e5d82eb4063a065c148cb1e...      0  \n",
       "\n",
       "[4377 rows x 6 columns]"
      ]
     },
     "execution_count": 5,
     "metadata": {},
     "output_type": "execute_result"
    }
   ],
   "source": [
    "reduced_lca = lca_table[lca_table.transientid.isin(label9_ID)]\n",
    "reduced_lca"
   ]
  },
  {
   "cell_type": "code",
   "execution_count": 6,
   "metadata": {},
   "outputs": [
    {
     "data": {
      "text/plain": [
       "0        631232\n",
       "1          7338\n",
       "2       2393414\n",
       "3        185138\n",
       "4       2392069\n",
       "         ...   \n",
       "3277    1333583\n",
       "3278    2190055\n",
       "3279    1467887\n",
       "3280    1922992\n",
       "3281    1627280\n",
       "Name: transientid, Length: 3282, dtype: int64"
      ]
     },
     "execution_count": 6,
     "metadata": {},
     "output_type": "execute_result"
    }
   ],
   "source": [
    "label9_trainset = pd.read_csv('../data/threshold_9_training_set.csv')\n",
    "label9_trainID = label9_trainset.transientid\n",
    "label9_trainID"
   ]
  },
  {
   "cell_type": "code",
   "execution_count": 7,
   "metadata": {},
   "outputs": [
    {
     "data": {
      "text/plain": [
       "0       2662547\n",
       "1        913385\n",
       "2       1351103\n",
       "3        692136\n",
       "4       2057555\n",
       "         ...   \n",
       "1090    1507713\n",
       "1091     795264\n",
       "1092    1508199\n",
       "1093     563794\n",
       "1094    1191371\n",
       "Name: transientid, Length: 1095, dtype: int64"
      ]
     },
     "execution_count": 7,
     "metadata": {},
     "output_type": "execute_result"
    }
   ],
   "source": [
    "label9_testset = pd.read_csv('../data/threshold_9_testing_set.csv')\n",
    "label9_testID = label9_testset.transientid\n",
    "label9_testID"
   ]
  },
  {
   "cell_type": "markdown",
   "metadata": {},
   "source": [
    "# Split into training and test set"
   ]
  },
  {
   "cell_type": "code",
   "execution_count": 8,
   "metadata": {},
   "outputs": [
    {
     "name": "stdout",
     "output_type": "stream",
     "text": [
      "The training set contains 3282 objects\n",
      "the testing set contains 1095 object\n"
     ]
    }
   ],
   "source": [
    "trainingset = reduced_lca[reduced_lca.transientid.isin(label9_trainID)]\n",
    "testingset = reduced_lca[reduced_lca.transientid.isin(label9_testID)]\n",
    "print('The training set contains {} objects'.format(trainingset.shape[0]))\n",
    "print('the testing set contains {} object'.format(testingset.shape[0]))"
   ]
  },
  {
   "cell_type": "code",
   "execution_count": 9,
   "metadata": {},
   "outputs": [],
   "source": [
    "trainingset.to_csv('../data/extra_analysis_data/LCA_training_set.csv',index=None)\n",
    "testingset.to_csv('../data/extra_analysis_data/LCA_testing_set.csv',index=None)"
   ]
  },
  {
   "cell_type": "code",
   "execution_count": null,
   "metadata": {},
   "outputs": [],
   "source": []
  },
  {
   "cell_type": "code",
   "execution_count": null,
   "metadata": {},
   "outputs": [],
   "source": []
  }
 ],
 "metadata": {
  "kernelspec": {
   "display_name": "Python 3",
   "language": "python",
   "name": "python3"
  },
  "language_info": {
   "codemirror_mode": {
    "name": "ipython",
    "version": 3
   },
   "file_extension": ".py",
   "mimetype": "text/x-python",
   "name": "python",
   "nbconvert_exporter": "python",
   "pygments_lexer": "ipython3",
   "version": "3.6.10"
  }
 },
 "nbformat": 4,
 "nbformat_minor": 4
}
